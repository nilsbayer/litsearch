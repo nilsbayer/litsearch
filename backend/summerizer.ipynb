{
 "cells": [
  {
   "attachments": {},
   "cell_type": "markdown",
   "metadata": {},
   "source": [
    "Here we want to test the summerizer model on some dummy data. \n",
    "- The summarizer, the input from the second pull of the data will be one string that will be then summerized and added into the ChromaDB at the same time"
   ]
  },
  {
   "cell_type": "code",
   "execution_count": 12,
   "metadata": {},
   "outputs": [],
   "source": [
    "from transformers import pipeline, AutoTokenizer, AutoModelForSeq2SeqLM\n",
    "import transformers"
   ]
  },
  {
   "cell_type": "code",
   "execution_count": 3,
   "metadata": {},
   "outputs": [],
   "source": [
    "text= \"summarize: The brain drain to industry is reflected in the growing number of highly-skilled professionals, such as engineers, scientists, and IT professionals, who are leaving academia and government jobs to work in the private sector. This trend is particularly evident in fields like technology, where cutting-edge research and development is often done in industry rather than at universities or government agencies. Our work will contribute to the latest developments in AI while also attempting to support existing literature mentioned here. This rise of AI is majorly driven by the success of deep learning (DL), machine learning (ML) and natural language processing in e.g. robotic technology and implementation in real-world settings (Kunze, 2019; Sample, 2017). The evolution of AI is an incentive for investments in private Research and Development (R&D) departments which triggers demand for researchers in industry. Alphabet R&D expenses increased by approximately 14 % from 2020 to 2021, and Meta has even tripled its investment in R&D in this period (Rosenbush, 2022). These numbers illustrate that private sector facilities may have a bright future. Additionally, there is some evidence that the time spent working for the public sector is decreasing for researchers who leave the public domain. According to a 2018 study, half of all people who join academic jobs leave within five years, which is 30 years less than in the 1960s (Hess, 2018). However, it remains to be seen if researchers have indeed moved to the private sector or whether there is a broader trend toward a drop in public research. As elaborated by Jurowetzki (2021), there are three forces in the current AI research landscape that explain influx and outflow of researchers from academia into industry. There are researchers who self-select into the academic field, which is the so-called “research-push” mechanism (Jurowetzki et al., 2021; Roach & Sauermann, 2010). The counterpart to this is the “technology-pull” mechanism, in which researchers seek to meet increasing demand by large technology companies and thereby gain access to better resources (Roach & Sauermann, 2010). While the first two forces are driven by the researchers themselves, the third force is the pull that comes from industry. This is the “industry-pull” mechanism, which has the same result as the technology-push, namely researchers leaving the academic and entering industry. Technology companies, in particular, are trying to recruit academic researchers as the importance of AI in real-world applications increases. The three major forces help explain that researchers have incentives to move to the private sector. Nonetheless, these forces can be expressed in more explicit terms. Research is not just research. Researchers are increasingly migrating from academia to private sector companies due to limited resources, the need to meet real-world needs, and better salaries, prestige, and facilities in the corporate world. Collaborations between academia and industry are necessary for institutes to compete with large technology companies (Sample, 2017). D’Amour et al. (2020) argue that models are often insufficiently specified, which can lead to inadequate performance when used in real-world applications. They also note that it can be tempting for researchers to look for better opportunities outside of academia, such as those offered by large tech companies. This is demonstrated by the fact that professors have left universities like Imperial College London for higher salaries, greater prestige, and improved resources at companies such as Apple and Microsoft (Sample, 2017). In Roach & Sauermann (2010), the authors suggest that the brain drain may depend on the individual’s “taste for science”, which is determined by their preferences for research, freedom in choosing projects, publishing, and interactions with the scientific community. They also identify two types of researchers and found that, when measuring the “taste for science” of graduate students, those with less “taste for science” preferred careers in industry, while those with more “taste for science” stayed in research. This insight provides another explanation for the inflow and outflow between science and industry, suggesting that such developments can be intrinsically motivated. However, this preference may dissipate if one examines university workplaces more thoroughly. Having a “taste for science” does not necessarily correspond to its meaning. University jobs are associated with various administrative tasks, such as teaching and fundraising, which may push actual research into the background (Sample, 2017). It can be said that both factors, the poor endowment of public institutions and the current and planned facilities for private institutions, are the main incentives for researchers to leave academia. Fortunato et al. (2018) argue that current scientific infrastructure does not adequately capture relationships between different scientific fields and that utilizing big data could uncover these relationships in order to optimize resource allocation and research budgets. Furthermore, understanding the interactions between different fields could lead to new discoveries and improved decision-making in regards to directing their research. A similar principle could be applied to our framework in this work, where we may simply study inside the topic of AI, yet there are many different research fields within it. In this case, it may be necessary to understand relationships among researchers in order to determine whether there are certain targeted areas where such network effects may emerge, allowing for better judgments, outcomes overall, and maximizing the potential of public research. Moreover, there is evidence that social networks may play a crucial role in the cross-border migration of qualified researchers (Gursoy & Badur, 2022). This could also be the case with transitions from academia to industry. These results would suggest that authors who leave academia drag their co-authors with them. In light of this, network effects, which may not be the actual cause of brain drain but rather an amplifying factor, could be one explanation. With our work on the effect of AI research brain drain, we want to emphasize the importance of strengthening the research sector. This is because the outflow of researchers has far-reaching effects on society and the economy. Having clarified that there are incentives for researchers to move into industry, the question arises as to the risks and benefits associated with this development. Fortunato et al. (2018) provide an important contribution to the understanding of research brain drain and its implications for the advancement of science. It is suggested that the research brain drain can help create new research fields and foster collaboration among researchers from different disciplines. It has also been revealed that research brain drain can be a source of innovation, allowing new ideas to be shared across different research fields. Kunze (2019) discusses the potential advantages of AI technologies from both industry and individual perspectives, as well as the potential benefits of brain drain for the sending party. Not only could AI technologies be directly connected to real-world needs, but also there is the possibility that researchers with more real-world experience will return to academia and share knowledge, as in the cross-border brain drain (European Committee of the Regions, 2018). The European Committee of the Regions (2018) report points out that emigrating researchers are an incentive for policymakers to encourage researchers to stay, for instance by investing in the public sector and improving their governance strategy. This could underscore the need for public sector reform and make this sector more competitive with private sector. However, there are some drawbacks. In response to the societal and industry pressure of private research, researchers in the academic field get incentives to commercialize their work as in the example if the Bayh-Dole Act (1980) giving universities, small businesses, and other non-profit research institutions rights to the intellectual property (Ezell, 2019). Concerns with this include limiting spillover of knowledge from academia to industry and reducing the pace of innovation (David, 2007; Ezell, 2019). Our work seeks to explain not only why researchers leave academia, but also what kind of researchers they are. Recent research shows that professors with tenure, from top universities, and from the field of DL are highly demanded researchers in industry (Gofman & Jin, 2022). In other words, those who are the most “productive and influential leaders in their field”, as stated by Jurowetzki (Woolston, 2022). This is a serious problem because the work being done in the public sphere could be disrupted if these researchers leave. Gofman & Jin (2022) confirm that such developments pose great losses to the research field, as the departure of professors decreases the AI knowledge of startup founders, ultimately leading to less startup formation and fundings. Additionally, the fact that “more than half of college employees say they’re likely to leave their jobs in the next year” makes this a pressing issue (Schroeder, 2022). This could indicate significant losses in university researchers, raising the issue of who will teach the following generation, particularly if the talented individuals leave (Kunze, 2019). As academia loses its top researchers to the better resourced private sector, it raises concerns about the training of new top researchers and could cause public research and research in general to lag behind. \""
   ]
  },
  {
   "cell_type": "code",
   "execution_count": 4,
   "metadata": {},
   "outputs": [
    {
     "name": "stderr",
     "output_type": "stream",
     "text": [
      "Token indices sequence length is longer than the specified maximum sequence length for this model (1951 > 512). Running this sequence through the model will result in indexing errors\n",
      "/Users/yasminesarraj/Documents/GitHub/Litsearch_backend/chroma_env/lib/python3.9/site-packages/transformers/generation/utils.py:1219: UserWarning: You have modified the pretrained model configuration to control generation. This is a deprecated strategy to control generation and will be removed soon, in a future version. Please use a generation configuration file (see https://huggingface.co/docs/transformers/main_classes/text_generation)\n",
      "  warnings.warn(\n"
     ]
    },
    {
     "data": {
      "text/plain": [
       "[{'summary_text': 'The brain drain to industry is reflected in the growing number of highly-skilled professionals, such as engineers, scientists, and IT professionals, leaving academia and government jobs to work in the private sector. This trend is particularly evident in fields like technology, where cutting-edge research and development is often done in industry rather than at universities or government agencies.'}]"
      ]
     },
     "execution_count": 4,
     "metadata": {},
     "output_type": "execute_result"
    }
   ],
   "source": [
    "summarizer = pipeline(\"summarization\", model=\"yasminesarraj/flan-t5-small-samsum\")\n",
    "summarizer(text)"
   ]
  },
  {
   "attachments": {},
   "cell_type": "markdown",
   "metadata": {},
   "source": [
    "Since we like the way the summarizer works we have downloaded it under download_model. Now we run it again from our machine. "
   ]
  },
  {
   "cell_type": "code",
   "execution_count": null,
   "metadata": {},
   "outputs": [],
   "source": [
    "model_path = \"/Users/yasminesarraj/Documents/GitHub/Litsearch_backend/ml-service/models\"\n",
    "model = transformers.AutoModelForSeq2SeqLM.from_pretrained(model_path)\n",
    "tokenizer = transformers.AutoTokenizer.from_pretrained(model_path)"
   ]
  },
  {
   "cell_type": "code",
   "execution_count": 24,
   "metadata": {},
   "outputs": [
    {
     "name": "stderr",
     "output_type": "stream",
     "text": [
      "Token indices sequence length is longer than the specified maximum sequence length for this model (1951 > 512). Running this sequence through the model will result in indexing errors\n",
      "/Users/yasminesarraj/Documents/GitHub/Litsearch_backend/chroma_env/lib/python3.9/site-packages/transformers/generation/utils.py:1219: UserWarning: You have modified the pretrained model configuration to control generation. This is a deprecated strategy to control generation and will be removed soon, in a future version. Please use a generation configuration file (see https://huggingface.co/docs/transformers/main_classes/text_generation)\n",
      "  warnings.warn(\n"
     ]
    },
    {
     "data": {
      "text/plain": [
       "[{'summary_text': 'The brain drain to industry is reflected in the growing number of highly-skilled professionals, such as engineers, scientists, and IT professionals, leaving academia and government jobs to work in the private sector. This trend is particularly evident in fields like technology, where cutting-edge research and development is often done in industry rather than at universities or government agencies.'}]"
      ]
     },
     "execution_count": 24,
     "metadata": {},
     "output_type": "execute_result"
    }
   ],
   "source": [
    "summarizer = pipeline(\"summarization\", model=model,  tokenizer=tokenizer)\n",
    "summarizer(text)"
   ]
  }
 ],
 "metadata": {
  "kernelspec": {
   "display_name": "chroma_env",
   "language": "python",
   "name": "python3"
  },
  "language_info": {
   "codemirror_mode": {
    "name": "ipython",
    "version": 3
   },
   "file_extension": ".py",
   "mimetype": "text/x-python",
   "name": "python",
   "nbconvert_exporter": "python",
   "pygments_lexer": "ipython3",
   "version": "3.9.6"
  },
  "orig_nbformat": 4
 },
 "nbformat": 4,
 "nbformat_minor": 2
}
